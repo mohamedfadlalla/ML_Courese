{
 "cells": [
  {
   "cell_type": "code",
   "execution_count": 2,
   "id": "6252cd32-e5d4-415e-af86-876ae442091b",
   "metadata": {},
   "outputs": [],
   "source": [
    "#imports \n",
    "from matplotlib import pyplot as plt\n",
    "import numpy as np\n",
    "#setup\n",
    "%matplotlib ipympl"
   ]
  },
  {
   "cell_type": "markdown",
   "id": "88c16c1e-2b4a-41b6-a5a0-014c93bee270",
   "metadata": {
    "tags": []
   },
   "source": [
    "## Dataset creation"
   ]
  },
  {
   "cell_type": "code",
   "execution_count": 3,
   "id": "f3ca22f5-c008-4910-a738-bb2289c257fd",
   "metadata": {},
   "outputs": [],
   "source": [
    "from sklearn.datasets import make_regression"
   ]
  },
  {
   "cell_type": "code",
   "execution_count": null,
   "id": "953c7430-0dc8-40e1-b399-fcf2a13d50c3",
   "metadata": {},
   "outputs": [],
   "source": [
    "plt.figure()\n",
    "plt.title('Sample regression problem with one input variable')\n",
    "X_R1, y_R1 = make_regression(n_samples = 100, n_features=1,\n",
    "                            n_informative=1, bias = 150.0,\n",
    "                            noise = 30, random_state=0)\n",
    "plt.scatter(X_R1, y_R1, marker= 'o', s=50)\n",
    "plt.show()"
   ]
  },
  {
   "cell_type": "markdown",
   "id": "9ee76cda-c535-4bb8-8a1d-b59adcc3659d",
   "metadata": {
    "tags": []
   },
   "source": [
    "# Various PreProcessing technique on Linear Regressors\n",
    "\n",
    "1. Feature normalization using MinMaxScalel\n",
    "2. PloynomicalFeatures"
   ]
  },
  {
   "cell_type": "markdown",
   "id": "d998c9b8-4599-481f-9a60-5e291af3c173",
   "metadata": {},
   "source": [
    "## Linear Regressor"
   ]
  },
  {
   "cell_type": "code",
   "execution_count": 10,
   "id": "e46d522c-71ce-4393-8b40-caee6a592f24",
   "metadata": {},
   "outputs": [
    {
     "name": "stdout",
     "output_type": "stream",
     "text": [
      "Without PreProcessing\n",
      "Train score: 0.6785950771141656\n",
      "Test score: 0.4915961593493031\n"
     ]
    }
   ],
   "source": [
    "from sklearn.linear_model import LinearRegression\n",
    "from sklearn.model_selection import train_test_split\n",
    "from sklearn.preprocessing import PolynomialFeatures\n",
    "from sklearn.preprocessing import MinMaxScaler\n",
    "X_train, X_test, y_train,  y_test = train_test_split(X_R1, y_R1, random_state=0)\n",
    "\n",
    "Linreg = LinearRegression().fit(X_train,y_train)\n",
    "test = Linreg.score(X_test,y_test)\n",
    "train = Linreg.score(X_train,y_train)\n",
    "print('Without PreProcessing')\n",
    "print(f'Train score: {train}')\n",
    "print(f'Test score: {test}')"
   ]
  },
  {
   "cell_type": "code",
   "execution_count": 17,
   "id": "81be5077-d602-4963-9449-b66a20f4fabe",
   "metadata": {},
   "outputs": [
    {
     "name": "stdout",
     "output_type": "stream",
     "text": [
      "Scaled PreProcessing\n",
      "Train score: 0.6785950771141656\n",
      "Test score: 0.2054863970715597\n"
     ]
    }
   ],
   "source": [
    "#MinMaxScaled\n",
    "from sklearn.preprocessing import MinMaxScaler\n",
    "\n",
    "scaler = MinMaxScaler()\n",
    "X_train_scaled = scaler.fit_transform(X_train)\n",
    "\n",
    "scaler = MinMaxScaler()\n",
    "scaler =scaler.fit(X_test)\n",
    "\n",
    "X_test_scaled = scaler.transform(X_test)\n",
    "\n",
    "Linreg = LinearRegression().fit(X_train_scaled,y_train)\n",
    "\n",
    "test = Linreg.score(X_test_scaled,y_test)\n",
    "train = Linreg.score(X_train_scaled,y_train)\n",
    "print('Scaled PreProcessing')\n",
    "print(f'Train score: {train}')\n",
    "print(f'Test score: {test}')"
   ]
  },
  {
   "cell_type": "code",
   "execution_count": 13,
   "id": "a21e56e9-eee4-4bdd-9756-ff65a54373f4",
   "metadata": {},
   "outputs": [
    {
     "name": "stdout",
     "output_type": "stream",
     "text": [
      "Polynomial PreProcessing\n",
      "Train score: 0.6785967065712898\n",
      "Test score: 0.49233590972846686\n"
     ]
    }
   ],
   "source": [
    "#Polynomical\n",
    "from sklearn.preprocessing import PolynomialFeatures\n",
    "\n",
    "poly = PolynomialFeatures(degree=2)\n",
    "X_train_poly = poly.fit_transform(X_train)\n",
    "X_test_poly = poly.fit_transform(X_test)\n",
    "\n",
    "Linreg = LinearRegression().fit(X_train_poly,y_train)\n",
    "test = Linreg.score(X_test_poly,y_test)\n",
    "train = Linreg.score(X_train_poly,y_train)\n",
    "print('Polynomial PreProcessing')\n",
    "print(f'Train score: {train}')\n",
    "print(f'Test score: {test}')"
   ]
  },
  {
   "cell_type": "markdown",
   "id": "9642d0f5-30ff-42bb-b48e-7b02704faacf",
   "metadata": {},
   "source": [
    "## Ridge Regressor"
   ]
  },
  {
   "cell_type": "code",
   "execution_count": 18,
   "id": "60b47a67-aec5-40d4-9e7d-d96f61dbba98",
   "metadata": {},
   "outputs": [
    {
     "name": "stdout",
     "output_type": "stream",
     "text": [
      "Without PreProcessing\n",
      "Train score: 0.6784829742716653\n",
      "Test score: 0.49733396172155453\n"
     ]
    }
   ],
   "source": [
    "from sklearn.linear_model import Ridge\n",
    "Rigreg = Ridge().fit(X_train,y_train)\n",
    "test = Rigreg.score(X_test,y_test)\n",
    "train = Rigreg.score(X_train,y_train)\n",
    "print('Without PreProcessing')\n",
    "print(f'Train score: {train}')\n",
    "print(f'Test score: {test}')"
   ]
  },
  {
   "cell_type": "code",
   "execution_count": 20,
   "id": "66bef220-9ec0-4f40-9d10-4792ffa75b3c",
   "metadata": {},
   "outputs": [
    {
     "name": "stdout",
     "output_type": "stream",
     "text": [
      "Scaled PreProcessing\n",
      "Train score: 0.6419302670030351\n",
      "Test score: 0.4187353680786383\n"
     ]
    }
   ],
   "source": [
    "#MinMaxScaled\n",
    "from sklearn.preprocessing import MinMaxScaler\n",
    "\n",
    "scaler = MinMaxScaler()\n",
    "X_train_scaled = scaler.fit_transform(X_train)\n",
    "\n",
    "scaler = MinMaxScaler()\n",
    "scaler =scaler.fit(X_test)\n",
    "\n",
    "X_test_scaled = scaler.transform(X_test)\n",
    "\n",
    "Rigreg = Ridge().fit(X_train_scaled,y_train)\n",
    "\n",
    "test = Rigreg.score(X_test_scaled,y_test)\n",
    "train = Rigreg.score(X_train_scaled,y_train)\n",
    "print('Scaled PreProcessing')\n",
    "print(f'Train score: {train}')\n",
    "print(f'Test score: {test}')"
   ]
  },
  {
   "cell_type": "code",
   "execution_count": 23,
   "id": "1343b05c-ecca-4cac-a563-1b0f9fd777ee",
   "metadata": {},
   "outputs": [
    {
     "name": "stdout",
     "output_type": "stream",
     "text": [
      "Polynomial PreProcessing\n",
      "Train score: 0.6784844923041689\n",
      "Test score: 0.4982528211749627\n"
     ]
    }
   ],
   "source": [
    "#Polynomical\n",
    "from sklearn.preprocessing import PolynomialFeatures\n",
    "\n",
    "poly = PolynomialFeatures(degree=2)\n",
    "X_train_poly = poly.fit_transform(X_train)\n",
    "X_test_poly = poly.fit_transform(X_test)\n",
    "\n",
    "Rigreg = Ridge().fit(X_train_poly,y_train)\n",
    "test = Rigreg.score(X_test_poly,y_test)\n",
    "train = Rigreg.score(X_train_poly,y_train)\n",
    "print('Polynomial PreProcessing')\n",
    "print(f'Train score: {train}')\n",
    "print(f'Test score: {test}')"
   ]
  },
  {
   "cell_type": "code",
   "execution_count": null,
   "id": "3e693664-ee92-430d-ae00-f6ef66f00125",
   "metadata": {},
   "outputs": [],
   "source": []
  },
  {
   "cell_type": "markdown",
   "id": "6fe8337c-07c4-477e-92b6-e01bee472066",
   "metadata": {
    "tags": []
   },
   "source": [
    "## Lasso Regressor"
   ]
  },
  {
   "cell_type": "code",
   "execution_count": 24,
   "id": "5d5525a6-01d8-494b-9515-b8e9d5604c2b",
   "metadata": {},
   "outputs": [
    {
     "name": "stdout",
     "output_type": "stream",
     "text": [
      "Train score: 0.6782853511428699\n",
      "Test score: 0.5009576610284516\n"
     ]
    }
   ],
   "source": [
    "from sklearn.linear_model import Lasso\n",
    "\n",
    "Lassoreg = Lasso().fit(X_train,y_train)\n",
    "test = Lassoreg.score(X_test,y_test)\n",
    "train = Lassoreg.score(X_train,y_train)\n",
    "\n",
    "print(f'Train score: {train}')\n",
    "print(f'Test score: {test}')"
   ]
  },
  {
   "cell_type": "code",
   "execution_count": 25,
   "id": "006f7093-7054-4810-b3ca-5542ccb6d796",
   "metadata": {},
   "outputs": [
    {
     "name": "stdout",
     "output_type": "stream",
     "text": [
      "Scaled PreProcessing\n",
      "Train score: 0.6713912028916489\n",
      "Test score: 0.3198036188604956\n"
     ]
    }
   ],
   "source": [
    "#MinMaxScaled\n",
    "from sklearn.preprocessing import MinMaxScaler\n",
    "\n",
    "scaler = MinMaxScaler()\n",
    "X_train_scaled = scaler.fit_transform(X_train)\n",
    "\n",
    "scaler = MinMaxScaler()\n",
    "scaler =scaler.fit(X_test)\n",
    "\n",
    "X_test_scaled = scaler.transform(X_test)\n",
    "\n",
    "Lassoreg = Lasso().fit(X_train_scaled,y_train)\n",
    "\n",
    "test = Lassoreg.score(X_test_scaled,y_test)\n",
    "train = Lassoreg.score(X_train_scaled,y_train)\n",
    "print('Scaled PreProcessing')\n",
    "print(f'Train score: {train}')\n",
    "print(f'Test score: {test}')"
   ]
  },
  {
   "cell_type": "code",
   "execution_count": 26,
   "id": "5c8ae187-efe0-4a86-84b5-5e66d2126054",
   "metadata": {},
   "outputs": [
    {
     "name": "stdout",
     "output_type": "stream",
     "text": [
      "Polynomial PreProcessing\n",
      "Train score: 0.6782853511428699\n",
      "Test score: 0.5009576610284516\n"
     ]
    }
   ],
   "source": [
    "#Polynomical\n",
    "from sklearn.preprocessing import PolynomialFeatures\n",
    "\n",
    "poly = PolynomialFeatures(degree=2)\n",
    "X_train_poly = poly.fit_transform(X_train)\n",
    "X_test_poly = poly.fit_transform(X_test)\n",
    "\n",
    "Lassoreg = Lasso().fit(X_train_poly,y_train)\n",
    "test = Lassoreg.score(X_test_poly,y_test)\n",
    "train = Lassoreg.score(X_train_poly,y_train)\n",
    "print('Polynomial PreProcessing')\n",
    "print(f'Train score: {train}')\n",
    "print(f'Test score: {test}')"
   ]
  },
  {
   "cell_type": "code",
   "execution_count": null,
   "id": "1c8c5fef-f178-4ebe-86c1-e4ad48aab56c",
   "metadata": {},
   "outputs": [],
   "source": []
  }
 ],
 "metadata": {
  "kernelspec": {
   "display_name": "Python 3 (ipykernel)",
   "language": "python",
   "name": "python3"
  },
  "language_info": {
   "codemirror_mode": {
    "name": "ipython",
    "version": 3
   },
   "file_extension": ".py",
   "mimetype": "text/x-python",
   "name": "python",
   "nbconvert_exporter": "python",
   "pygments_lexer": "ipython3",
   "version": "3.10.4"
  }
 },
 "nbformat": 4,
 "nbformat_minor": 5
}
