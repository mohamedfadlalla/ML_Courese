{
 "cells": [
  {
   "cell_type": "code",
   "execution_count": 1,
   "id": "19043488-e0ef-4ec6-a662-ebf9dbb1c644",
   "metadata": {},
   "outputs": [],
   "source": [
    "#imports \n",
    "from matplotlib import pyplot as plt\n",
    "import numpy as np"
   ]
  },
  {
   "cell_type": "code",
   "execution_count": 4,
   "id": "73883016-f248-417e-9fd7-9adf2f3d853e",
   "metadata": {},
   "outputs": [],
   "source": [
    "#setup\n",
    "%matplotlib ipympl"
   ]
  },
  {
   "cell_type": "markdown",
   "id": "03c6da5d-5de7-4dfc-8368-87aad8223aaf",
   "metadata": {
    "jp-MarkdownHeadingCollapsed": true,
    "tags": []
   },
   "source": [
    "## Dataset creation"
   ]
  },
  {
   "cell_type": "code",
   "execution_count": 2,
   "id": "f3ca22f5-c008-4910-a738-bb2289c257fd",
   "metadata": {},
   "outputs": [],
   "source": [
    "from sklearn.datasets import make_regression"
   ]
  },
  {
   "cell_type": "code",
   "execution_count": null,
   "id": "953c7430-0dc8-40e1-b399-fcf2a13d50c3",
   "metadata": {},
   "outputs": [],
   "source": [
    "plt.figure()\n",
    "plt.title('Sample regression problem with one input variable')\n",
    "X_R1, y_R1 = make_regression(n_samples = 100, n_features=1,\n",
    "                            n_informative=1, bias = 150.0,\n",
    "                            noise = 30, random_state=0)\n",
    "plt.scatter(X_R1, y_R1, marker= 'o', s=50)\n",
    "plt.show()"
   ]
  },
  {
   "cell_type": "markdown",
   "id": "d26cf5ef-7d6b-4ab7-b58c-256e47e07862",
   "metadata": {
    "jp-MarkdownHeadingCollapsed": true,
    "tags": []
   },
   "source": [
    "# Linear Regressors"
   ]
  },
  {
   "cell_type": "markdown",
   "id": "26f8c448-497d-4aa2-8785-710f0013aa59",
   "metadata": {},
   "source": [
    "## Linear Regressor"
   ]
  },
  {
   "cell_type": "code",
   "execution_count": 24,
   "id": "18019d38-acff-4bd1-9b63-4829f615be3d",
   "metadata": {},
   "outputs": [
    {
     "name": "stdout",
     "output_type": "stream",
     "text": [
      "Train score: 0.6785950771141656\n",
      "Test score: 0.4915961593493031\n"
     ]
    }
   ],
   "source": [
    "from sklearn.linear_model import LinearRegression\n",
    "from sklearn.model_selection import train_test_split\n",
    "\n",
    "X_train, X_test, y_train,  y_test = train_test_split(X_R1, y_R1, random_state=0)\n",
    "\n",
    "Linreg = LinearRegression().fit(X_train,y_train)\n",
    "test = Linreg.score(X_test,y_test)\n",
    "train = Linreg.score(X_train,y_train)\n",
    "\n",
    "print(f'Train score: {train}')\n",
    "print(f'Test score: {test}')\n"
   ]
  },
  {
   "cell_type": "markdown",
   "id": "41f8dbbc-79ed-4fff-89ca-0df7b9e81651",
   "metadata": {},
   "source": [
    "## Ridge Regressor"
   ]
  },
  {
   "cell_type": "code",
   "execution_count": 26,
   "id": "743841ab-5121-4a06-9a06-e356923ea092",
   "metadata": {},
   "outputs": [
    {
     "name": "stdout",
     "output_type": "stream",
     "text": [
      "Train score: 0.6784829742716653\n",
      "Test score: 0.49733396172155453\n"
     ]
    }
   ],
   "source": [
    "from sklearn.linear_model import Ridge\n",
    "\n",
    "Rigreg = Ridge().fit(X_train,y_train)\n",
    "test = Rigreg.score(X_test,y_test)\n",
    "train = Rigreg.score(X_train,y_train)\n",
    "\n",
    "print(f'Train score: {train}')\n",
    "print(f'Test score: {test}')"
   ]
  },
  {
   "cell_type": "markdown",
   "id": "56855235-1015-4ae3-b78f-d43cbbce8e8e",
   "metadata": {},
   "source": [
    "## Lasso Regressor"
   ]
  },
  {
   "cell_type": "code",
   "execution_count": 27,
   "id": "12836abe-69c1-4ed6-bd97-dcce0e82f994",
   "metadata": {},
   "outputs": [
    {
     "name": "stdout",
     "output_type": "stream",
     "text": [
      "Train score: 0.6782853511428699\n",
      "Test score: 0.5009576610284516\n"
     ]
    }
   ],
   "source": [
    "from sklearn.linear_model import Lasso\n",
    "\n",
    "Lassoreg = Lasso().fit(X_train,y_train)\n",
    "test = Lassoreg.score(X_test,y_test)\n",
    "train = Lassoreg.score(X_train,y_train)\n",
    "\n",
    "print(f'Train score: {train}')\n",
    "print(f'Test score: {test}')"
   ]
  },
  {
   "cell_type": "code",
   "execution_count": null,
   "id": "ee9a3e24-1305-4652-816e-90d4ae415c49",
   "metadata": {},
   "outputs": [],
   "source": []
  }
 ],
 "metadata": {
  "kernelspec": {
   "display_name": "Python 3 (ipykernel)",
   "language": "python",
   "name": "python3"
  },
  "language_info": {
   "codemirror_mode": {
    "name": "ipython",
    "version": 3
   },
   "file_extension": ".py",
   "mimetype": "text/x-python",
   "name": "python",
   "nbconvert_exporter": "python",
   "pygments_lexer": "ipython3",
   "version": "3.10.4"
  }
 },
 "nbformat": 4,
 "nbformat_minor": 5
}
